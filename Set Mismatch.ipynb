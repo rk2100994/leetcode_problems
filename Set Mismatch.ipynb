{
 "cells": [
  {
   "cell_type": "markdown",
   "metadata": {},
   "source": [
    "The set S originally contains numbers from 1 to n. But unfortunately, due to the data error, one of the numbers in the set got duplicated to another number in the set, which results in repetition of one number and loss of another number.\n",
    "\n",
    "Given an array nums representing the data status of this set after the error. Your task is to firstly find the number occurs twice and then find the number that is missing. Return them in the form of an array.\n",
    "\n",
    "Example 1:\n",
    "Input: nums = [1,2,2,4]\n",
    "Output: [2,3]\n",
    "Note:\n",
    "The given array size will in the range [2, 10000].\n",
    "The given array's numbers won't have any order."
   ]
  },
  {
   "cell_type": "code",
   "execution_count": 17,
   "metadata": {},
   "outputs": [
    {
     "name": "stdout",
     "output_type": "stream",
     "text": [
      "[2, 3]\n"
     ]
    }
   ],
   "source": [
    "class Solution(object):\n",
    "    def findErrorNums(self, nums):\n",
    "        \"\"\"\n",
    "        :type nums: List[int]\n",
    "        :rtype: List[int]\n",
    "        \"\"\"\n",
    "        nums = sorted(nums)\n",
    "\n",
    "        presentSet = set(nums)\n",
    "        actualSet = set([i for i in range(1, len(nums)+1)])\n",
    "\n",
    "        for i in range(0, len(nums) - 1):\n",
    "            if nums[i] == nums[i + 1]:\n",
    "                result = nums[i]\n",
    "\n",
    "        diff = min(actualSet.difference(presentSet))\n",
    "        return [result, diff]\n",
    "    \n",
    "sol = Solution()\n",
    "print(sol.findErrorNums([1,2,2,4]))"
   ]
  },
  {
   "cell_type": "code",
   "execution_count": null,
   "metadata": {},
   "outputs": [],
   "source": []
  }
 ],
 "metadata": {
  "kernelspec": {
   "display_name": "Python 3",
   "language": "python",
   "name": "python3"
  },
  "language_info": {
   "codemirror_mode": {
    "name": "ipython",
    "version": 3
   },
   "file_extension": ".py",
   "mimetype": "text/x-python",
   "name": "python",
   "nbconvert_exporter": "python",
   "pygments_lexer": "ipython3",
   "version": "3.7.4"
  }
 },
 "nbformat": 4,
 "nbformat_minor": 4
}
