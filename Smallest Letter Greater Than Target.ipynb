{
 "cells": [
  {
   "cell_type": "markdown",
   "metadata": {},
   "source": [
    "744. Find Smallest Letter Greater Than Target\n",
    "Given a list of sorted characters letters containing only lowercase letters, and given a target letter target, find the smallest element in the list that is larger than the given target.\n",
    "\n",
    "Letters also wrap around. For example, if the target is target = 'z' and letters = ['a', 'b'], the answer is 'a'.\n",
    "\n",
    "Examples:\n",
    "Input:\n",
    "letters = [\"c\", \"f\", \"j\"]\n",
    "target = \"a\"\n",
    "Output: \"c\"\n",
    "\n",
    "Input:\n",
    "letters = [\"c\", \"f\", \"j\"]\n",
    "target = \"c\"\n",
    "Output: \"f\"\n",
    "\n",
    "Input:\n",
    "letters = [\"c\", \"f\", \"j\"]\n",
    "target = \"d\"\n",
    "Output: \"f\"\n",
    "\n",
    "Input:\n",
    "letters = [\"c\", \"f\", \"j\"]\n",
    "target = \"g\"\n",
    "Output: \"j\"\n",
    "\n",
    "Input:\n",
    "letters = [\"c\", \"f\", \"j\"]\n",
    "target = \"j\"\n",
    "Output: \"c\"\n",
    "\n",
    "Input:\n",
    "letters = [\"c\", \"f\", \"j\"]\n",
    "target = \"k\"\n",
    "Output: \"c\""
   ]
  },
  {
   "cell_type": "code",
   "execution_count": 95,
   "metadata": {},
   "outputs": [
    {
     "name": "stdout",
     "output_type": "stream",
     "text": [
      "c\n"
     ]
    }
   ],
   "source": [
    "#method1\n",
    "import string\n",
    "import sys\n",
    "def nextGreatestLetter(letters, target):\n",
    "    \"\"\"\n",
    "    :type letters: List[str]\n",
    "    :type target: str\n",
    "    :rtype: str\n",
    "    \"\"\"\n",
    "    # using string for filling alphabets \n",
    "    letters_list = list(string.ascii_lowercase) \n",
    "#     print(len(letters_list))\n",
    "    letters_order = {}\n",
    "    for i in range(0,26):\n",
    "        letters_order[letters_list[i]]=i+1\n",
    "#     print(letters_order)\n",
    "    for i in range (len(letters)):\n",
    "        letters[i] = int(letters[i].replace(letters[i],str(letters_order[letters[i]])))\n",
    "    letters.sort()\n",
    "#     print(letters)\n",
    "    target = int(target.replace(target,str(letters_order[target])))\n",
    "#     print(target)\n",
    "    smallest_num_letter = sys.maxsize\n",
    "    for i in letters:\n",
    "#         print(\"i\",i)\n",
    "        if smallest_num_letter > i and i>target:\n",
    "            smallest_num_letter = i\n",
    "        elif smallest_num_letter >i and i == letters[len(letters)-1]:\n",
    "            smallest_num_letter = letters[0]\n",
    "        \n",
    "#         else:\n",
    "#             smallest_num_letter = min(letters)\n",
    "#     print(smallest_num_letter)\n",
    "    for character, order in letters_order.items():\n",
    "        if order == smallest_num_letter:\n",
    "            print(character)\n",
    "letters = [\"c\", \"f\", \"j\"] \n",
    "target = \"z\"\n",
    "nextGreatestLetter(letters, target)"
   ]
  },
  {
   "cell_type": "code",
   "execution_count": 100,
   "metadata": {},
   "outputs": [
    {
     "data": {
      "text/plain": [
       "'f'"
      ]
     },
     "execution_count": 100,
     "metadata": {},
     "output_type": "execute_result"
    }
   ],
   "source": [
    "#method2\n",
    "def nextGreatestLetter2(letters, target):\n",
    "    for char in letters:\n",
    "        if char > target:\n",
    "            return char\n",
    "    return letters[0]\n",
    "\n",
    "letters = [\"c\", \"f\", \"j\"] \n",
    "target = \"c\"\n",
    "nextGreatestLetter2(letters, target)"
   ]
  },
  {
   "cell_type": "code",
   "execution_count": null,
   "metadata": {},
   "outputs": [],
   "source": []
  }
 ],
 "metadata": {
  "kernelspec": {
   "display_name": "Python 3",
   "language": "python",
   "name": "python3"
  },
  "language_info": {
   "codemirror_mode": {
    "name": "ipython",
    "version": 3
   },
   "file_extension": ".py",
   "mimetype": "text/x-python",
   "name": "python",
   "nbconvert_exporter": "python",
   "pygments_lexer": "ipython3",
   "version": "3.7.4"
  }
 },
 "nbformat": 4,
 "nbformat_minor": 4
}
